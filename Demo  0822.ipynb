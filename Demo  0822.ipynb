{
 "cells": [
  {
   "cell_type": "code",
   "execution_count": 1,
   "id": "2e0547ff",
   "metadata": {},
   "outputs": [
    {
     "name": "stdout",
     "output_type": "stream",
     "text": [
      "My Name is Saanvi Samantsinghar\n"
     ]
    }
   ],
   "source": [
    "print('My Name is Saanvi Samantsinghar')"
   ]
  },
  {
   "cell_type": "code",
   "execution_count": 2,
   "id": "30ddaa87",
   "metadata": {},
   "outputs": [
    {
     "ename": "NameError",
     "evalue": "name 'swagati' is not defined",
     "output_type": "error",
     "traceback": [
      "\u001b[1;31m---------------------------------------------------------------------------\u001b[0m",
      "\u001b[1;31mNameError\u001b[0m                                 Traceback (most recent call last)",
      "Input \u001b[1;32mIn [2]\u001b[0m, in \u001b[0;36m<cell line: 3>\u001b[1;34m()\u001b[0m\n\u001b[0;32m      1\u001b[0m x \u001b[38;5;241m=\u001b[39m \u001b[38;5;241m100\u001b[39m\n\u001b[0;32m      2\u001b[0m y \u001b[38;5;241m=\u001b[39m \u001b[38;5;241m200\u001b[39m\n\u001b[1;32m----> 3\u001b[0m me \u001b[38;5;241m=\u001b[39m \u001b[43mswagati\u001b[49m\n\u001b[0;32m      4\u001b[0m she \u001b[38;5;241m=\u001b[39m siddhi\n",
      "\u001b[1;31mNameError\u001b[0m: name 'swagati' is not defined"
     ]
    }
   ],
   "source": [
    "x = 100\n",
    "y = 200\n",
    "me = swagati\n",
    "she = siddhi\n"
   ]
  },
  {
   "cell_type": "code",
   "execution_count": 3,
   "id": "cfebfdeb",
   "metadata": {},
   "outputs": [],
   "source": [
    "myName = 'Swagati Sarangi'"
   ]
  },
  {
   "cell_type": "code",
   "execution_count": 4,
   "id": "eae1f8ff",
   "metadata": {},
   "outputs": [
    {
     "name": "stdout",
     "output_type": "stream",
     "text": [
      "100 200 Swagati Sarangi\n"
     ]
    }
   ],
   "source": [
    "print(x, y, myName)"
   ]
  },
  {
   "cell_type": "code",
   "execution_count": 5,
   "id": "6c4867e7",
   "metadata": {},
   "outputs": [
    {
     "ename": "SyntaxError",
     "evalue": "invalid syntax (3533273705.py, line 1)",
     "output_type": "error",
     "traceback": [
      "\u001b[1;36m  Input \u001b[1;32mIn [5]\u001b[1;36m\u001b[0m\n\u001b[1;33m    my name is chetan samantsinghar\u001b[0m\n\u001b[1;37m       ^\u001b[0m\n\u001b[1;31mSyntaxError\u001b[0m\u001b[1;31m:\u001b[0m invalid syntax\n"
     ]
    }
   ],
   "source": [
    "my name is chetan samantsinghar"
   ]
  },
  {
   "cell_type": "code",
   "execution_count": 6,
   "id": "1e229343",
   "metadata": {},
   "outputs": [
    {
     "ename": "SyntaxError",
     "evalue": "invalid syntax (1380028473.py, line 1)",
     "output_type": "error",
     "traceback": [
      "\u001b[1;36m  Input \u001b[1;32mIn [6]\u001b[1;36m\u001b[0m\n\u001b[1;33m    print(my name is chetan samantsinghar)\u001b[0m\n\u001b[1;37m             ^\u001b[0m\n\u001b[1;31mSyntaxError\u001b[0m\u001b[1;31m:\u001b[0m invalid syntax\n"
     ]
    }
   ],
   "source": [
    "print(my name is chetan samantsinghar)"
   ]
  },
  {
   "cell_type": "code",
   "execution_count": 7,
   "id": "13c746e2",
   "metadata": {},
   "outputs": [
    {
     "name": "stdout",
     "output_type": "stream",
     "text": [
      "my name is chetan samantsinghar\n"
     ]
    }
   ],
   "source": [
    "print('my name is chetan samantsinghar')"
   ]
  },
  {
   "cell_type": "code",
   "execution_count": 8,
   "id": "eca38eae",
   "metadata": {},
   "outputs": [
    {
     "ename": "SyntaxError",
     "evalue": "cannot assign to literal (2249369085.py, line 1)",
     "output_type": "error",
     "traceback": [
      "\u001b[1;36m  Input \u001b[1;32mIn [8]\u001b[1;36m\u001b[0m\n\u001b[1;33m    x =100, y = 200\u001b[0m\n\u001b[1;37m       ^\u001b[0m\n\u001b[1;31mSyntaxError\u001b[0m\u001b[1;31m:\u001b[0m cannot assign to literal\n"
     ]
    }
   ],
   "source": [
    " x =100, y = 200"
   ]
  },
  {
   "cell_type": "code",
   "execution_count": 9,
   "id": "bb0ce245",
   "metadata": {},
   "outputs": [],
   "source": [
    "x = 100\n",
    "y = 200"
   ]
  },
  {
   "cell_type": "code",
   "execution_count": 10,
   "id": "20458983",
   "metadata": {},
   "outputs": [
    {
     "name": "stdout",
     "output_type": "stream",
     "text": [
      "100 200\n"
     ]
    }
   ],
   "source": [
    "print(x, y)"
   ]
  },
  {
   "cell_type": "code",
   "execution_count": 11,
   "id": "2d37b7b0",
   "metadata": {},
   "outputs": [
    {
     "ename": "SyntaxError",
     "evalue": "invalid syntax (3918175908.py, line 1)",
     "output_type": "error",
     "traceback": [
      "\u001b[1;36m  Input \u001b[1;32mIn [11]\u001b[1;36m\u001b[0m\n\u001b[1;33m    myName = Chetan Samantsinghar\u001b[0m\n\u001b[1;37m                    ^\u001b[0m\n\u001b[1;31mSyntaxError\u001b[0m\u001b[1;31m:\u001b[0m invalid syntax\n"
     ]
    }
   ],
   "source": [
    "myName = Chetan Samantsinghar"
   ]
  },
  {
   "cell_type": "code",
   "execution_count": 12,
   "id": "291b8cb4",
   "metadata": {},
   "outputs": [],
   "source": [
    "myname = 'Swagati Sarangi'\n",
    "husbnadname = 'chetan samantsinghar'\n",
    "daughtername = 'Saanvi Samantsinghar'"
   ]
  },
  {
   "cell_type": "code",
   "execution_count": 13,
   "id": "5bb306dd",
   "metadata": {},
   "outputs": [
    {
     "ename": "NameError",
     "evalue": "name 'husbandname' is not defined",
     "output_type": "error",
     "traceback": [
      "\u001b[1;31m---------------------------------------------------------------------------\u001b[0m",
      "\u001b[1;31mNameError\u001b[0m                                 Traceback (most recent call last)",
      "Input \u001b[1;32mIn [13]\u001b[0m, in \u001b[0;36m<cell line: 1>\u001b[1;34m()\u001b[0m\n\u001b[1;32m----> 1\u001b[0m \u001b[38;5;28mprint\u001b[39m(myname, \u001b[43mhusbandname\u001b[49m, daughtername)\n",
      "\u001b[1;31mNameError\u001b[0m: name 'husbandname' is not defined"
     ]
    }
   ],
   "source": [
    "print(myname, husbandname, daughtername)"
   ]
  },
  {
   "cell_type": "code",
   "execution_count": 14,
   "id": "a5db97e1",
   "metadata": {},
   "outputs": [
    {
     "name": "stdout",
     "output_type": "stream",
     "text": [
      "Swagati Sarangi chetan samantsinghar Saanvi Samantsinghar\n"
     ]
    }
   ],
   "source": [
    "print(myname, husbnadname, daughtername)"
   ]
  },
  {
   "cell_type": "code",
   "execution_count": 15,
   "id": "531d7499",
   "metadata": {},
   "outputs": [
    {
     "name": "stdout",
     "output_type": "stream",
     "text": [
      "<class 'str'>\n"
     ]
    }
   ],
   "source": [
    "print(type('x'))"
   ]
  },
  {
   "cell_type": "code",
   "execution_count": 16,
   "id": "d3b39a9a",
   "metadata": {},
   "outputs": [
    {
     "name": "stdout",
     "output_type": "stream",
     "text": [
      "<class 'str'>\n"
     ]
    }
   ],
   "source": [
    "print(type('myname, husbnadname, daughtername'))"
   ]
  },
  {
   "cell_type": "code",
   "execution_count": 17,
   "id": "92a5828f",
   "metadata": {},
   "outputs": [
    {
     "name": "stdout",
     "output_type": "stream",
     "text": [
      "<class 'str'>\n"
     ]
    }
   ],
   "source": [
    "print(type('x = 100'))"
   ]
  },
  {
   "cell_type": "code",
   "execution_count": 18,
   "id": "39f7f66a",
   "metadata": {},
   "outputs": [
    {
     "ename": "SyntaxError",
     "evalue": "invalid syntax (729446603.py, line 1)",
     "output_type": "error",
     "traceback": [
      "\u001b[1;36m  Input \u001b[1;32mIn [18]\u001b[1;36m\u001b[0m\n\u001b[1;33m    print('MY DAUGHTER'S,'NAME IS SAANVI SAMANTSINGHAR')\u001b[0m\n\u001b[1;37m                       ^\u001b[0m\n\u001b[1;31mSyntaxError\u001b[0m\u001b[1;31m:\u001b[0m invalid syntax\n"
     ]
    }
   ],
   "source": [
    "print('MY DAUGHTER'S,'NAME IS SAANVI SAMANTSINGHAR')"
   ]
  },
  {
   "cell_type": "code",
   "execution_count": 19,
   "id": "5bb82d0c",
   "metadata": {},
   "outputs": [
    {
     "ename": "NameError",
     "evalue": "name 'PRINT' is not defined",
     "output_type": "error",
     "traceback": [
      "\u001b[1;31m---------------------------------------------------------------------------\u001b[0m",
      "\u001b[1;31mNameError\u001b[0m                                 Traceback (most recent call last)",
      "Input \u001b[1;32mIn [19]\u001b[0m, in \u001b[0;36m<cell line: 1>\u001b[1;34m()\u001b[0m\n\u001b[1;32m----> 1\u001b[0m \u001b[43mPRINT\u001b[49m(\u001b[38;5;124m'\u001b[39m\u001b[38;5;124mMY DAUGHTER\u001b[39m\u001b[38;5;124m'\u001b[39m\u001b[38;5;124m'\u001b[39m\u001b[38;5;124mS NAME IS SAANVI SAMANTSINGHAR\u001b[39m\u001b[38;5;124m'\u001b[39m)\n",
      "\u001b[1;31mNameError\u001b[0m: name 'PRINT' is not defined"
     ]
    }
   ],
   "source": [
    "PRINT('MY DAUGHTER''S NAME IS SAANVI SAMANTSINGHAR')"
   ]
  },
  {
   "cell_type": "code",
   "execution_count": 20,
   "id": "907bb613",
   "metadata": {},
   "outputs": [
    {
     "ename": "SyntaxError",
     "evalue": "EOL while scanning string literal (2620849065.py, line 1)",
     "output_type": "error",
     "traceback": [
      "\u001b[1;36m  Input \u001b[1;32mIn [20]\u001b[1;36m\u001b[0m\n\u001b[1;33m    print('MY DAUGHTER''S NAME IS SAANVI SAMANTSINGHAR)\u001b[0m\n\u001b[1;37m                                                       ^\u001b[0m\n\u001b[1;31mSyntaxError\u001b[0m\u001b[1;31m:\u001b[0m EOL while scanning string literal\n"
     ]
    }
   ],
   "source": [
    "print('MY DAUGHTER''S NAME IS SAANVI SAMANTSINGHAR)"
   ]
  },
  {
   "cell_type": "code",
   "execution_count": 21,
   "id": "e0a3eb34",
   "metadata": {},
   "outputs": [
    {
     "name": "stdout",
     "output_type": "stream",
     "text": [
      "MY DAUGHTER S NAME IS SAANVI SAMANTSINGHAR\n"
     ]
    }
   ],
   "source": [
    "print('MY DAUGHTER','S NAME IS SAANVI SAMANTSINGHAR')"
   ]
  },
  {
   "cell_type": "code",
   "execution_count": 22,
   "id": "47328287",
   "metadata": {},
   "outputs": [
    {
     "name": "stdout",
     "output_type": "stream",
     "text": [
      "I am loving it\n"
     ]
    }
   ],
   "source": [
    "print(\"I am loving it\")"
   ]
  },
  {
   "cell_type": "code",
   "execution_count": 23,
   "id": "8dedf0a3",
   "metadata": {},
   "outputs": [
    {
     "name": "stdout",
     "output_type": "stream",
     "text": [
      "100,200,300\n"
     ]
    }
   ],
   "source": [
    "print('100,200,300')"
   ]
  },
  {
   "cell_type": "code",
   "execution_count": 24,
   "id": "f4d8d1ae",
   "metadata": {},
   "outputs": [
    {
     "name": "stdout",
     "output_type": "stream",
     "text": [
      "My Daughter's name is Saanvi Samantsinghar\n"
     ]
    }
   ],
   "source": [
    "print(\"My Daughter's name is Saanvi Samantsinghar\")"
   ]
  },
  {
   "cell_type": "code",
   "execution_count": 25,
   "id": "a51e98d7",
   "metadata": {},
   "outputs": [
    {
     "ename": "SyntaxError",
     "evalue": "invalid syntax (2923613887.py, line 1)",
     "output_type": "error",
     "traceback": [
      "\u001b[1;36m  Input \u001b[1;32mIn [25]\u001b[1;36m\u001b[0m\n\u001b[1;33m    1st = 27/08/22\u001b[0m\n\u001b[1;37m     ^\u001b[0m\n\u001b[1;31mSyntaxError\u001b[0m\u001b[1;31m:\u001b[0m invalid syntax\n"
     ]
    }
   ],
   "source": [
    "1st = 27/08/22\n",
    "2nd = 28/08/22"
   ]
  },
  {
   "cell_type": "code",
   "execution_count": 26,
   "id": "a6cad1cf",
   "metadata": {},
   "outputs": [
    {
     "ename": "SyntaxError",
     "evalue": "leading zeros in decimal integer literals are not permitted; use an 0o prefix for octal integers (3469691648.py, line 1)",
     "output_type": "error",
     "traceback": [
      "\u001b[1;36m  Input \u001b[1;32mIn [26]\u001b[1;36m\u001b[0m\n\u001b[1;33m    one = 27/08/22\u001b[0m\n\u001b[1;37m              ^\u001b[0m\n\u001b[1;31mSyntaxError\u001b[0m\u001b[1;31m:\u001b[0m leading zeros in decimal integer literals are not permitted; use an 0o prefix for octal integers\n"
     ]
    }
   ],
   "source": [
    "one = 27/08/22\n",
    "two = 28/08/22"
   ]
  },
  {
   "cell_type": "code",
   "execution_count": 27,
   "id": "a372e13d",
   "metadata": {},
   "outputs": [
    {
     "ename": "NameError",
     "evalue": "name 'o8' is not defined",
     "output_type": "error",
     "traceback": [
      "\u001b[1;31m---------------------------------------------------------------------------\u001b[0m",
      "\u001b[1;31mNameError\u001b[0m                                 Traceback (most recent call last)",
      "Input \u001b[1;32mIn [27]\u001b[0m, in \u001b[0;36m<cell line: 1>\u001b[1;34m()\u001b[0m\n\u001b[1;32m----> 1\u001b[0m one \u001b[38;5;241m=\u001b[39m \u001b[38;5;241m27\u001b[39m\u001b[38;5;241m/\u001b[39m\u001b[43mo8\u001b[49m\u001b[38;5;241m/\u001b[39m\u001b[38;5;241m22\u001b[39m\n\u001b[0;32m      2\u001b[0m two \u001b[38;5;241m=\u001b[39m \u001b[38;5;241m28\u001b[39m\u001b[38;5;241m/\u001b[39mo8\u001b[38;5;241m/\u001b[39m\u001b[38;5;241m22\u001b[39m\n",
      "\u001b[1;31mNameError\u001b[0m: name 'o8' is not defined"
     ]
    }
   ],
   "source": [
    "one = 27/o8/22\n",
    "two = 28/o8/22"
   ]
  },
  {
   "cell_type": "code",
   "execution_count": 28,
   "id": "3cb5b0e9",
   "metadata": {},
   "outputs": [
    {
     "ename": "SyntaxError",
     "evalue": "invalid digit '8' in octal literal (1102846781.py, line 1)",
     "output_type": "error",
     "traceback": [
      "\u001b[1;36m  Input \u001b[1;32mIn [28]\u001b[1;36m\u001b[0m\n\u001b[1;33m    one = 27/0o8/22\u001b[0m\n\u001b[1;37m              ^\u001b[0m\n\u001b[1;31mSyntaxError\u001b[0m\u001b[1;31m:\u001b[0m invalid digit '8' in octal literal\n"
     ]
    }
   ],
   "source": [
    "one = 27/0o8/22"
   ]
  },
  {
   "cell_type": "code",
   "execution_count": 29,
   "id": "ba5b5e3b",
   "metadata": {},
   "outputs": [
    {
     "ename": "SyntaxError",
     "evalue": "invalid syntax (4083274227.py, line 1)",
     "output_type": "error",
     "traceback": [
      "\u001b[1;36m  Input \u001b[1;32mIn [29]\u001b[1;36m\u001b[0m\n\u001b[1;33m    one = 27/0 8/22\u001b[0m\n\u001b[1;37m               ^\u001b[0m\n\u001b[1;31mSyntaxError\u001b[0m\u001b[1;31m:\u001b[0m invalid syntax\n"
     ]
    }
   ],
   "source": [
    "one = 27/0 8/22"
   ]
  },
  {
   "cell_type": "code",
   "execution_count": 30,
   "id": "e4017350",
   "metadata": {},
   "outputs": [
    {
     "ename": "NameError",
     "evalue": "name 'O8' is not defined",
     "output_type": "error",
     "traceback": [
      "\u001b[1;31m---------------------------------------------------------------------------\u001b[0m",
      "\u001b[1;31mNameError\u001b[0m                                 Traceback (most recent call last)",
      "Input \u001b[1;32mIn [30]\u001b[0m, in \u001b[0;36m<cell line: 1>\u001b[1;34m()\u001b[0m\n\u001b[1;32m----> 1\u001b[0m one \u001b[38;5;241m=\u001b[39m \u001b[38;5;241m27\u001b[39m\u001b[38;5;241m/\u001b[39m\u001b[43mO8\u001b[49m\u001b[38;5;241m/\u001b[39m\u001b[38;5;241m22\u001b[39m\n",
      "\u001b[1;31mNameError\u001b[0m: name 'O8' is not defined"
     ]
    }
   ],
   "source": [
    "one = 27/O8/22"
   ]
  },
  {
   "cell_type": "code",
   "execution_count": 31,
   "id": "7320875c",
   "metadata": {},
   "outputs": [],
   "source": [
    "one = 27/8/22"
   ]
  },
  {
   "cell_type": "code",
   "execution_count": 32,
   "id": "bf6757c9",
   "metadata": {},
   "outputs": [],
   "source": [
    "two = 28/8/22"
   ]
  },
  {
   "cell_type": "code",
   "execution_count": 33,
   "id": "93c1461c",
   "metadata": {},
   "outputs": [
    {
     "name": "stdout",
     "output_type": "stream",
     "text": [
      "0.1534090909090909 0.1590909090909091\n"
     ]
    }
   ],
   "source": [
    "print(one, two)"
   ]
  },
  {
   "cell_type": "code",
   "execution_count": 34,
   "id": "04b804ff",
   "metadata": {},
   "outputs": [],
   "source": [
    "x = 24+24"
   ]
  },
  {
   "cell_type": "code",
   "execution_count": 35,
   "id": "552013ff",
   "metadata": {},
   "outputs": [],
   "source": [
    "y= 999+1"
   ]
  },
  {
   "cell_type": "code",
   "execution_count": 36,
   "id": "162d6abe",
   "metadata": {},
   "outputs": [
    {
     "name": "stdout",
     "output_type": "stream",
     "text": [
      "48 1000\n"
     ]
    }
   ],
   "source": [
    "print(x , y)"
   ]
  },
  {
   "cell_type": "code",
   "execution_count": 42,
   "id": "d015a601",
   "metadata": {},
   "outputs": [],
   "source": [
    "emi = 6256+3142+8000+1785+3042+6500"
   ]
  },
  {
   "cell_type": "code",
   "execution_count": null,
   "id": "09bfa9a4",
   "metadata": {},
   "outputs": [],
   "source": []
  },
  {
   "cell_type": "code",
   "execution_count": 40,
   "id": "d17858ac",
   "metadata": {},
   "outputs": [],
   "source": [
    "print(emi)\n",
    "\n",
    "emi = +2119\n",
    "\n"
   ]
  },
  {
   "cell_type": "code",
   "execution_count": null,
   "id": "7e95774b",
   "metadata": {},
   "outputs": [],
   "source": [
    "print(emi)\n",
    "\n"
   ]
  }
 ],
 "metadata": {
  "kernelspec": {
   "display_name": "Python 3 (ipykernel)",
   "language": "python",
   "name": "python3"
  },
  "language_info": {
   "codemirror_mode": {
    "name": "ipython",
    "version": 3
   },
   "file_extension": ".py",
   "mimetype": "text/x-python",
   "name": "python",
   "nbconvert_exporter": "python",
   "pygments_lexer": "ipython3",
   "version": "3.9.12"
  }
 },
 "nbformat": 4,
 "nbformat_minor": 5
}
